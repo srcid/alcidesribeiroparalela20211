{
 "cells": [
  {
   "cell_type": "code",
   "execution_count": 1,
   "id": "75e62917",
   "metadata": {},
   "outputs": [],
   "source": [
    "import pandas as pd\n",
    "import matplotlib.pyplot as plt"
   ]
  },
  {
   "cell_type": "code",
   "execution_count": 2,
   "id": "af06368b",
   "metadata": {},
   "outputs": [],
   "source": [
    "dados_df = pd.read_csv('res.csv')"
   ]
  },
  {
   "cell_type": "code",
   "execution_count": 3,
   "id": "3cf7dfa8",
   "metadata": {},
   "outputs": [
    {
     "data": {
      "text/html": [
       "<div>\n",
       "<style scoped>\n",
       "    .dataframe tbody tr th:only-of-type {\n",
       "        vertical-align: middle;\n",
       "    }\n",
       "\n",
       "    .dataframe tbody tr th {\n",
       "        vertical-align: top;\n",
       "    }\n",
       "\n",
       "    .dataframe thead th {\n",
       "        text-align: right;\n",
       "    }\n",
       "</style>\n",
       "<table border=\"1\" class=\"dataframe\">\n",
       "  <thead>\n",
       "    <tr style=\"text-align: right;\">\n",
       "      <th></th>\n",
       "      <th>cluster</th>\n",
       "      <th>size</th>\n",
       "      <th>cpus</th>\n",
       "      <th>time</th>\n",
       "    </tr>\n",
       "  </thead>\n",
       "  <tbody>\n",
       "    <tr>\n",
       "      <th>0</th>\n",
       "      <td>1x8</td>\n",
       "      <td>2048</td>\n",
       "      <td>2</td>\n",
       "      <td>103.0620</td>\n",
       "    </tr>\n",
       "    <tr>\n",
       "      <th>1</th>\n",
       "      <td>1x8</td>\n",
       "      <td>2048</td>\n",
       "      <td>4</td>\n",
       "      <td>58.5295</td>\n",
       "    </tr>\n",
       "    <tr>\n",
       "      <th>2</th>\n",
       "      <td>1x8</td>\n",
       "      <td>2048</td>\n",
       "      <td>8</td>\n",
       "      <td>28.9493</td>\n",
       "    </tr>\n",
       "    <tr>\n",
       "      <th>3</th>\n",
       "      <td>2x4</td>\n",
       "      <td>2048</td>\n",
       "      <td>2</td>\n",
       "      <td>104.9350</td>\n",
       "    </tr>\n",
       "    <tr>\n",
       "      <th>4</th>\n",
       "      <td>2x4</td>\n",
       "      <td>2048</td>\n",
       "      <td>4</td>\n",
       "      <td>52.8654</td>\n",
       "    </tr>\n",
       "    <tr>\n",
       "      <th>5</th>\n",
       "      <td>2x4</td>\n",
       "      <td>2048</td>\n",
       "      <td>8</td>\n",
       "      <td>27.1715</td>\n",
       "    </tr>\n",
       "  </tbody>\n",
       "</table>\n",
       "</div>"
      ],
      "text/plain": [
       "  cluster  size  cpus      time\n",
       "0     1x8  2048     2  103.0620\n",
       "1     1x8  2048     4   58.5295\n",
       "2     1x8  2048     8   28.9493\n",
       "3     2x4  2048     2  104.9350\n",
       "4     2x4  2048     4   52.8654\n",
       "5     2x4  2048     8   27.1715"
      ]
     },
     "execution_count": 3,
     "metadata": {},
     "output_type": "execute_result"
    }
   ],
   "source": [
    "dados_df"
   ]
  },
  {
   "cell_type": "code",
   "execution_count": 4,
   "id": "e803ac92",
   "metadata": {},
   "outputs": [
    {
     "data": {
      "text/html": [
       "<div>\n",
       "<style scoped>\n",
       "    .dataframe tbody tr th:only-of-type {\n",
       "        vertical-align: middle;\n",
       "    }\n",
       "\n",
       "    .dataframe tbody tr th {\n",
       "        vertical-align: top;\n",
       "    }\n",
       "\n",
       "    .dataframe thead th {\n",
       "        text-align: right;\n",
       "    }\n",
       "</style>\n",
       "<table border=\"1\" class=\"dataframe\">\n",
       "  <thead>\n",
       "    <tr style=\"text-align: right;\">\n",
       "      <th></th>\n",
       "      <th>cluster</th>\n",
       "      <th>size</th>\n",
       "      <th>cpus</th>\n",
       "      <th>speedup</th>\n",
       "    </tr>\n",
       "  </thead>\n",
       "  <tbody>\n",
       "    <tr>\n",
       "      <th>0</th>\n",
       "      <td>1x8</td>\n",
       "      <td>2048</td>\n",
       "      <td>2</td>\n",
       "      <td>1.000000</td>\n",
       "    </tr>\n",
       "    <tr>\n",
       "      <th>1</th>\n",
       "      <td>1x8</td>\n",
       "      <td>2048</td>\n",
       "      <td>4</td>\n",
       "      <td>1.760856</td>\n",
       "    </tr>\n",
       "    <tr>\n",
       "      <th>2</th>\n",
       "      <td>1x8</td>\n",
       "      <td>2048</td>\n",
       "      <td>8</td>\n",
       "      <td>3.560086</td>\n",
       "    </tr>\n",
       "    <tr>\n",
       "      <th>3</th>\n",
       "      <td>2x4</td>\n",
       "      <td>2048</td>\n",
       "      <td>2</td>\n",
       "      <td>1.000000</td>\n",
       "    </tr>\n",
       "    <tr>\n",
       "      <th>4</th>\n",
       "      <td>2x4</td>\n",
       "      <td>2048</td>\n",
       "      <td>4</td>\n",
       "      <td>1.984947</td>\n",
       "    </tr>\n",
       "    <tr>\n",
       "      <th>5</th>\n",
       "      <td>2x4</td>\n",
       "      <td>2048</td>\n",
       "      <td>8</td>\n",
       "      <td>3.861951</td>\n",
       "    </tr>\n",
       "  </tbody>\n",
       "</table>\n",
       "</div>"
      ],
      "text/plain": [
       "  cluster  size  cpus   speedup\n",
       "0     1x8  2048     2  1.000000\n",
       "1     1x8  2048     4  1.760856\n",
       "2     1x8  2048     8  3.560086\n",
       "3     2x4  2048     2  1.000000\n",
       "4     2x4  2048     4  1.984947\n",
       "5     2x4  2048     8  3.861951"
      ]
     },
     "execution_count": 4,
     "metadata": {},
     "output_type": "execute_result"
    }
   ],
   "source": [
    "dados_df['time'] = dados_df.groupby('cluster')['time'].transform('first') / dados_df['time']\n",
    "dados_df = dados_df.rename(columns={'time':'speedup'})\n",
    "dados_df"
   ]
  },
  {
   "cell_type": "code",
   "execution_count": 11,
   "id": "e36579ef",
   "metadata": {},
   "outputs": [
    {
     "data": {
      "image/png": "[encoded data removed]",
      "text/plain": [
       "<Figure size 648x432 with 1 Axes>"
      ]
     },
     "metadata": {
      "needs_background": "light"
     },
     "output_type": "display_data"
    }
   ],
   "source": [
    "fig, ax = plt.subplots(figsize=[9,6])\n",
    "for name, group in dados_df.groupby('cluster'):\n",
    "    group.plot(x='cpus', y='speedup', ax=ax, label=name)"
   ]
  }
 ],
 "metadata": {
  "kernelspec": {
   "display_name": "Python 3",
   "language": "python",
   "name": "python3"
  },
  "language_info": {
   "codemirror_mode": {
    "name": "ipython",
    "version": 3
   },
   "file_extension": ".py",
   "mimetype": "text/x-python",
   "name": "python",
   "nbconvert_exporter": "python",
   "pygments_lexer": "ipython3",
   "version": "3.8.5"
  }
 },
 "nbformat": 4,
 "nbformat_minor": 5
}
