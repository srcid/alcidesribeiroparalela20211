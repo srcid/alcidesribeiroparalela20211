{
  "nbformat": 4,
  "nbformat_minor": 0,
  "metadata": {
    "colab": {
      "name": "analise.ipynb",
      "provenance": [],
      "collapsed_sections": []
    },
    "kernelspec": {
      "name": "python3",
      "display_name": "Python 3"
    },
    "language_info": {
      "name": "python"
    }
  },
  "cells": [
    {
      "cell_type": "code",
      "metadata": {
        "id": "0S9xFIcTrZCi"
      },
      "source": [
        "import pandas as pd\n",
        "import matplotlib.pyplot as plt"
      ],
      "execution_count": null,
      "outputs": []
    },
    {
      "cell_type": "code",
      "metadata": {
        "id": "eWkh7huGr0hC"
      },
      "source": [
        "dados_df = pd.read_csv('/content/drive/MyDrive/databases/res.csv')"
      ],
      "execution_count": null,
      "outputs": []
    },
    {
      "cell_type": "markdown",
      "metadata": {
        "id": "MTPI7mxZshs0"
      },
      "source": [
        "Resultados obtidos nos testes da disciplina usando a AWS"
      ]
    },
    {
      "cell_type": "code",
      "metadata": {
        "colab": {
          "base_uri": "https://localhost:8080/",
          "height": 357
        },
        "id": "B3hV93HHsbk0",
        "outputId": "0fcb6578-c186-4d62-818e-326a5b01c6f0"
      },
      "source": [
        "dados_df"
      ],
      "execution_count": null,
      "outputs": [
        {
          "output_type": "execute_result",
          "data": {
            "text/html": [
              "<div>\n",
              "<style scoped>\n",
              "    .dataframe tbody tr th:only-of-type {\n",
              "        vertical-align: middle;\n",
              "    }\n",
              "\n",
              "    .dataframe tbody tr th {\n",
              "        vertical-align: top;\n",
              "    }\n",
              "\n",
              "    .dataframe thead th {\n",
              "        text-align: right;\n",
              "    }\n",
              "</style>\n",
              "<table border=\"1\" class=\"dataframe\">\n",
              "  <thead>\n",
              "    <tr style=\"text-align: right;\">\n",
              "      <th></th>\n",
              "      <th>Máquina</th>\n",
              "      <th>Processos</th>\n",
              "      <th>Tempo</th>\n",
              "    </tr>\n",
              "  </thead>\n",
              "  <tbody>\n",
              "    <tr>\n",
              "      <th>0</th>\n",
              "      <td>1x8</td>\n",
              "      <td>1</td>\n",
              "      <td>0.008402</td>\n",
              "    </tr>\n",
              "    <tr>\n",
              "      <th>1</th>\n",
              "      <td>1x8</td>\n",
              "      <td>2</td>\n",
              "      <td>0.003463</td>\n",
              "    </tr>\n",
              "    <tr>\n",
              "      <th>2</th>\n",
              "      <td>1x8</td>\n",
              "      <td>4</td>\n",
              "      <td>0.001899</td>\n",
              "    </tr>\n",
              "    <tr>\n",
              "      <th>3</th>\n",
              "      <td>1x8</td>\n",
              "      <td>6</td>\n",
              "      <td>0.001281</td>\n",
              "    </tr>\n",
              "    <tr>\n",
              "      <th>4</th>\n",
              "      <td>1x8</td>\n",
              "      <td>8</td>\n",
              "      <td>0.001042</td>\n",
              "    </tr>\n",
              "    <tr>\n",
              "      <th>5</th>\n",
              "      <td>2x4</td>\n",
              "      <td>1</td>\n",
              "      <td>0.006802</td>\n",
              "    </tr>\n",
              "    <tr>\n",
              "      <th>6</th>\n",
              "      <td>2x4</td>\n",
              "      <td>2</td>\n",
              "      <td>0.003439</td>\n",
              "    </tr>\n",
              "    <tr>\n",
              "      <th>7</th>\n",
              "      <td>2x4</td>\n",
              "      <td>4</td>\n",
              "      <td>0.001855</td>\n",
              "    </tr>\n",
              "    <tr>\n",
              "      <th>8</th>\n",
              "      <td>2x4</td>\n",
              "      <td>6</td>\n",
              "      <td>0.013859</td>\n",
              "    </tr>\n",
              "    <tr>\n",
              "      <th>9</th>\n",
              "      <td>2x4</td>\n",
              "      <td>8</td>\n",
              "      <td>0.012286</td>\n",
              "    </tr>\n",
              "  </tbody>\n",
              "</table>\n",
              "</div>"
            ],
            "text/plain": [
              "  Máquina  Processos     Tempo\n",
              "0     1x8          1  0.008402\n",
              "1     1x8          2  0.003463\n",
              "2     1x8          4  0.001899\n",
              "3     1x8          6  0.001281\n",
              "4     1x8          8  0.001042\n",
              "5     2x4          1  0.006802\n",
              "6     2x4          2  0.003439\n",
              "7     2x4          4  0.001855\n",
              "8     2x4          6  0.013859\n",
              "9     2x4          8  0.012286"
            ]
          },
          "metadata": {
            "tags": []
          },
          "execution_count": 65
        }
      ]
    },
    {
      "cell_type": "markdown",
      "metadata": {
        "id": "0ukNLsuXUDFV"
      },
      "source": [
        "Agora calculamos o speedup"
      ]
    },
    {
      "cell_type": "code",
      "metadata": {
        "colab": {
          "base_uri": "https://localhost:8080/",
          "height": 357
        },
        "id": "GLjAFunkN4rC",
        "outputId": "3fe1b71f-8b5b-49e4-c6dc-50d596774b85"
      },
      "source": [
        "dados_df['Tempo'] = dados_df.groupby('Máquina')['Tempo'].transform('first') / dados_df['Tempo']\n",
        "dados_df"
      ],
      "execution_count": null,
      "outputs": [
        {
          "output_type": "execute_result",
          "data": {
            "text/html": [
              "<div>\n",
              "<style scoped>\n",
              "    .dataframe tbody tr th:only-of-type {\n",
              "        vertical-align: middle;\n",
              "    }\n",
              "\n",
              "    .dataframe tbody tr th {\n",
              "        vertical-align: top;\n",
              "    }\n",
              "\n",
              "    .dataframe thead th {\n",
              "        text-align: right;\n",
              "    }\n",
              "</style>\n",
              "<table border=\"1\" class=\"dataframe\">\n",
              "  <thead>\n",
              "    <tr style=\"text-align: right;\">\n",
              "      <th></th>\n",
              "      <th>Máquina</th>\n",
              "      <th>Processos</th>\n",
              "      <th>Tempo</th>\n",
              "    </tr>\n",
              "  </thead>\n",
              "  <tbody>\n",
              "    <tr>\n",
              "      <th>0</th>\n",
              "      <td>1x8</td>\n",
              "      <td>1</td>\n",
              "      <td>1.000000</td>\n",
              "    </tr>\n",
              "    <tr>\n",
              "      <th>1</th>\n",
              "      <td>1x8</td>\n",
              "      <td>2</td>\n",
              "      <td>2.426453</td>\n",
              "    </tr>\n",
              "    <tr>\n",
              "      <th>2</th>\n",
              "      <td>1x8</td>\n",
              "      <td>4</td>\n",
              "      <td>4.423820</td>\n",
              "    </tr>\n",
              "    <tr>\n",
              "      <th>3</th>\n",
              "      <td>1x8</td>\n",
              "      <td>6</td>\n",
              "      <td>6.558775</td>\n",
              "    </tr>\n",
              "    <tr>\n",
              "      <th>4</th>\n",
              "      <td>1x8</td>\n",
              "      <td>8</td>\n",
              "      <td>8.066599</td>\n",
              "    </tr>\n",
              "    <tr>\n",
              "      <th>5</th>\n",
              "      <td>2x4</td>\n",
              "      <td>1</td>\n",
              "      <td>1.000000</td>\n",
              "    </tr>\n",
              "    <tr>\n",
              "      <th>6</th>\n",
              "      <td>2x4</td>\n",
              "      <td>2</td>\n",
              "      <td>1.977737</td>\n",
              "    </tr>\n",
              "    <tr>\n",
              "      <th>7</th>\n",
              "      <td>2x4</td>\n",
              "      <td>4</td>\n",
              "      <td>3.666832</td>\n",
              "    </tr>\n",
              "    <tr>\n",
              "      <th>8</th>\n",
              "      <td>2x4</td>\n",
              "      <td>6</td>\n",
              "      <td>0.490835</td>\n",
              "    </tr>\n",
              "    <tr>\n",
              "      <th>9</th>\n",
              "      <td>2x4</td>\n",
              "      <td>8</td>\n",
              "      <td>0.553671</td>\n",
              "    </tr>\n",
              "  </tbody>\n",
              "</table>\n",
              "</div>"
            ],
            "text/plain": [
              "  Máquina  Processos     Tempo\n",
              "0     1x8          1  1.000000\n",
              "1     1x8          2  2.426453\n",
              "2     1x8          4  4.423820\n",
              "3     1x8          6  6.558775\n",
              "4     1x8          8  8.066599\n",
              "5     2x4          1  1.000000\n",
              "6     2x4          2  1.977737\n",
              "7     2x4          4  3.666832\n",
              "8     2x4          6  0.490835\n",
              "9     2x4          8  0.553671"
            ]
          },
          "metadata": {
            "tags": []
          },
          "execution_count": 66
        }
      ]
    },
    {
      "cell_type": "code",
      "metadata": {
        "id": "VnnbAmJeS8ol"
      },
      "source": [
        "dados_df = dados_df.rename(columns={'Tempo':'Speedup'})"
      ],
      "execution_count": null,
      "outputs": []
    },
    {
      "cell_type": "code",
      "metadata": {
        "colab": {
          "base_uri": "https://localhost:8080/",
          "height": 826
        },
        "id": "a0jAW8qpSkuC",
        "outputId": "e72299ad-2165-4918-f4af-6ff74665c67c"
      },
      "source": [
        "dados_df.groupby('Máquina').plot(x='Processos', y='Speedup', figsize=[9,6])"
      ],
      "execution_count": null,
      "outputs": [
        {
          "output_type": "execute_result",
          "data": {
            "text/plain": [
              "Máquina\n",
              "1x8    AxesSubplot(0.125,0.125;0.775x0.755)\n",
              "2x4    AxesSubplot(0.125,0.125;0.775x0.755)\n",
              "dtype: object"
            ]
          },
          "metadata": {
            "tags": []
          },
          "execution_count": 73
        },
        {
          "output_type": "display_data",
          "data": {
            "image/png": "[encoded data removed]",
            "text/plain": [
              "<Figure size 648x432 with 1 Axes>"
            ]
          },
          "metadata": {
            "tags": [],
            "needs_background": "light"
          }
        },
        {
          "output_type": "display_data",
          "data": {
            "image/png": "[encoded data removed]",
            "text/plain": [
              "<Figure size 648x432 with 1 Axes>"
            ]
          },
          "metadata": {
            "tags": [],
            "needs_background": "light"
          }
        }
      ]
    },
    {
      "cell_type": "code",
      "metadata": {
        "colab": {
          "base_uri": "https://localhost:8080/",
          "height": 334
        },
        "id": "ycnZ_Ya87E8t",
        "outputId": "f8f26fc7-bb6e-45a9-825a-16c11fdd393d"
      },
      "source": [
        "fig, ax = plt.subplots(figsize=[7,5])\n",
        "for name, group in dados_df.groupby('Máquina'):\n",
        "  group.plot(x='Processos', y='Speedup', ax=ax, label=name)\n"
      ],
      "execution_count": null,
      "outputs": [
        {
          "output_type": "display_data",
          "data": {
            "image/png": "[encoded data removed]",
            "text/plain": [
              "<Figure size 504x360 with 1 Axes>"
            ]
          },
          "metadata": {
            "tags": [],
            "needs_background": "light"
          }
        }
      ]
    }
  ]
}