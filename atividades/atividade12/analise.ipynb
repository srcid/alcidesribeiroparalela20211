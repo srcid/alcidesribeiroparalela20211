{
  "nbformat": 4,
  "nbformat_minor": 0,
  "metadata": {
    "colab": {
      "name": "analise.ipynb",
      "provenance": [],
      "collapsed_sections": []
    },
    "kernelspec": {
      "name": "python3",
      "display_name": "Python 3"
    },
    "language_info": {
      "name": "python"
    }
  },
  "cells": [
    {
      "cell_type": "code",
      "metadata": {
        "id": "0S9xFIcTrZCi"
      },
      "source": [
        "import pandas as pd\n",
        "import matplotlib.pyplot as plt"
      ],
      "execution_count": 1,
      "outputs": []
    },
    {
      "cell_type": "code",
      "metadata": {
        "id": "eWkh7huGr0hC"
      },
      "source": [
        "dados_df = pd.read_csv('/content/drive/MyDrive/databases/res.csv')"
      ],
      "execution_count": 2,
      "outputs": []
    },
    {
      "cell_type": "markdown",
      "metadata": {
        "id": "MTPI7mxZshs0"
      },
      "source": [
        "Resultados obtidos nos testes da disciplina usando a AWS"
      ]
    },
    {
      "cell_type": "code",
      "metadata": {
        "colab": {
          "base_uri": "https://localhost:8080/",
          "height": 357
        },
        "id": "B3hV93HHsbk0",
        "outputId": "9fb5036f-8c56-48fb-9765-50b564658575"
      },
      "source": [
        "dados_df"
      ],
      "execution_count": 3,
      "outputs": [
        {
          "output_type": "execute_result",
          "data": {
            "text/html": [
              "<div>\n",
              "<style scoped>\n",
              "    .dataframe tbody tr th:only-of-type {\n",
              "        vertical-align: middle;\n",
              "    }\n",
              "\n",
              "    .dataframe tbody tr th {\n",
              "        vertical-align: top;\n",
              "    }\n",
              "\n",
              "    .dataframe thead th {\n",
              "        text-align: right;\n",
              "    }\n",
              "</style>\n",
              "<table border=\"1\" class=\"dataframe\">\n",
              "  <thead>\n",
              "    <tr style=\"text-align: right;\">\n",
              "      <th></th>\n",
              "      <th>Máquina</th>\n",
              "      <th>Processos</th>\n",
              "      <th>Tempo</th>\n",
              "    </tr>\n",
              "  </thead>\n",
              "  <tbody>\n",
              "    <tr>\n",
              "      <th>0</th>\n",
              "      <td>1x8</td>\n",
              "      <td>1</td>\n",
              "      <td>0.023399</td>\n",
              "    </tr>\n",
              "    <tr>\n",
              "      <th>1</th>\n",
              "      <td>1x8</td>\n",
              "      <td>2</td>\n",
              "      <td>0.013620</td>\n",
              "    </tr>\n",
              "    <tr>\n",
              "      <th>2</th>\n",
              "      <td>1x8</td>\n",
              "      <td>4</td>\n",
              "      <td>0.008870</td>\n",
              "    </tr>\n",
              "    <tr>\n",
              "      <th>3</th>\n",
              "      <td>1x8</td>\n",
              "      <td>6</td>\n",
              "      <td>0.007287</td>\n",
              "    </tr>\n",
              "    <tr>\n",
              "      <th>4</th>\n",
              "      <td>1x8</td>\n",
              "      <td>8</td>\n",
              "      <td>0.017091</td>\n",
              "    </tr>\n",
              "    <tr>\n",
              "      <th>5</th>\n",
              "      <td>2x4</td>\n",
              "      <td>1</td>\n",
              "      <td>0.021679</td>\n",
              "    </tr>\n",
              "    <tr>\n",
              "      <th>6</th>\n",
              "      <td>2x4</td>\n",
              "      <td>2</td>\n",
              "      <td>0.012711</td>\n",
              "    </tr>\n",
              "    <tr>\n",
              "      <th>7</th>\n",
              "      <td>2x4</td>\n",
              "      <td>4</td>\n",
              "      <td>0.008550</td>\n",
              "    </tr>\n",
              "    <tr>\n",
              "      <th>8</th>\n",
              "      <td>2x4</td>\n",
              "      <td>6</td>\n",
              "      <td>0.057410</td>\n",
              "    </tr>\n",
              "    <tr>\n",
              "      <th>9</th>\n",
              "      <td>2x4</td>\n",
              "      <td>8</td>\n",
              "      <td>0.077855</td>\n",
              "    </tr>\n",
              "  </tbody>\n",
              "</table>\n",
              "</div>"
            ],
            "text/plain": [
              "  Máquina  Processos     Tempo\n",
              "0     1x8          1  0.023399\n",
              "1     1x8          2  0.013620\n",
              "2     1x8          4  0.008870\n",
              "3     1x8          6  0.007287\n",
              "4     1x8          8  0.017091\n",
              "5     2x4          1  0.021679\n",
              "6     2x4          2  0.012711\n",
              "7     2x4          4  0.008550\n",
              "8     2x4          6  0.057410\n",
              "9     2x4          8  0.077855"
            ]
          },
          "metadata": {
            "tags": []
          },
          "execution_count": 3
        }
      ]
    },
    {
      "cell_type": "markdown",
      "metadata": {
        "id": "0ukNLsuXUDFV"
      },
      "source": [
        "Agora calculamos o speedup"
      ]
    },
    {
      "cell_type": "code",
      "metadata": {
        "colab": {
          "base_uri": "https://localhost:8080/",
          "height": 357
        },
        "id": "GLjAFunkN4rC",
        "outputId": "97bc23fb-4f6b-4cbd-c215-808c426ae106"
      },
      "source": [
        "dados_df['Tempo'] = dados_df.groupby('Máquina')['Tempo'].transform('first') / dados_df['Tempo']\n",
        "dados_df"
      ],
      "execution_count": 4,
      "outputs": [
        {
          "output_type": "execute_result",
          "data": {
            "text/html": [
              "<div>\n",
              "<style scoped>\n",
              "    .dataframe tbody tr th:only-of-type {\n",
              "        vertical-align: middle;\n",
              "    }\n",
              "\n",
              "    .dataframe tbody tr th {\n",
              "        vertical-align: top;\n",
              "    }\n",
              "\n",
              "    .dataframe thead th {\n",
              "        text-align: right;\n",
              "    }\n",
              "</style>\n",
              "<table border=\"1\" class=\"dataframe\">\n",
              "  <thead>\n",
              "    <tr style=\"text-align: right;\">\n",
              "      <th></th>\n",
              "      <th>Máquina</th>\n",
              "      <th>Processos</th>\n",
              "      <th>Tempo</th>\n",
              "    </tr>\n",
              "  </thead>\n",
              "  <tbody>\n",
              "    <tr>\n",
              "      <th>0</th>\n",
              "      <td>1x8</td>\n",
              "      <td>1</td>\n",
              "      <td>1.000000</td>\n",
              "    </tr>\n",
              "    <tr>\n",
              "      <th>1</th>\n",
              "      <td>1x8</td>\n",
              "      <td>2</td>\n",
              "      <td>1.717967</td>\n",
              "    </tr>\n",
              "    <tr>\n",
              "      <th>2</th>\n",
              "      <td>1x8</td>\n",
              "      <td>4</td>\n",
              "      <td>2.638047</td>\n",
              "    </tr>\n",
              "    <tr>\n",
              "      <th>3</th>\n",
              "      <td>1x8</td>\n",
              "      <td>6</td>\n",
              "      <td>3.211208</td>\n",
              "    </tr>\n",
              "    <tr>\n",
              "      <th>4</th>\n",
              "      <td>1x8</td>\n",
              "      <td>8</td>\n",
              "      <td>1.369115</td>\n",
              "    </tr>\n",
              "    <tr>\n",
              "      <th>5</th>\n",
              "      <td>2x4</td>\n",
              "      <td>1</td>\n",
              "      <td>1.000000</td>\n",
              "    </tr>\n",
              "    <tr>\n",
              "      <th>6</th>\n",
              "      <td>2x4</td>\n",
              "      <td>2</td>\n",
              "      <td>1.705579</td>\n",
              "    </tr>\n",
              "    <tr>\n",
              "      <th>7</th>\n",
              "      <td>2x4</td>\n",
              "      <td>4</td>\n",
              "      <td>2.535594</td>\n",
              "    </tr>\n",
              "    <tr>\n",
              "      <th>8</th>\n",
              "      <td>2x4</td>\n",
              "      <td>6</td>\n",
              "      <td>0.377616</td>\n",
              "    </tr>\n",
              "    <tr>\n",
              "      <th>9</th>\n",
              "      <td>2x4</td>\n",
              "      <td>8</td>\n",
              "      <td>0.278456</td>\n",
              "    </tr>\n",
              "  </tbody>\n",
              "</table>\n",
              "</div>"
            ],
            "text/plain": [
              "  Máquina  Processos     Tempo\n",
              "0     1x8          1  1.000000\n",
              "1     1x8          2  1.717967\n",
              "2     1x8          4  2.638047\n",
              "3     1x8          6  3.211208\n",
              "4     1x8          8  1.369115\n",
              "5     2x4          1  1.000000\n",
              "6     2x4          2  1.705579\n",
              "7     2x4          4  2.535594\n",
              "8     2x4          6  0.377616\n",
              "9     2x4          8  0.278456"
            ]
          },
          "metadata": {
            "tags": []
          },
          "execution_count": 4
        }
      ]
    },
    {
      "cell_type": "code",
      "metadata": {
        "id": "VnnbAmJeS8ol"
      },
      "source": [
        "dados_df = dados_df.rename(columns={'Tempo':'Speedup'})"
      ],
      "execution_count": 5,
      "outputs": []
    },
    {
      "cell_type": "code",
      "metadata": {
        "colab": {
          "base_uri": "https://localhost:8080/",
          "height": 826
        },
        "id": "a0jAW8qpSkuC",
        "outputId": "70593036-1e39-4ff4-fadd-2080c1c8ae81"
      },
      "source": [
        "dados_df.groupby('Máquina').plot(x='Processos', y='Speedup', figsize=[9,6])"
      ],
      "execution_count": 6,
      "outputs": [
        {
          "output_type": "execute_result",
          "data": {
            "text/plain": [
              "Máquina\n",
              "1x8    AxesSubplot(0.125,0.125;0.775x0.755)\n",
              "2x4    AxesSubplot(0.125,0.125;0.775x0.755)\n",
              "dtype: object"
            ]
          },
          "metadata": {
            "tags": []
          },
          "execution_count": 6
        },
        {
          "output_type": "display_data",
          "data": {
            "image/png": "[encoded data removed]",
            "text/plain": [
              "<Figure size 648x432 with 1 Axes>"
            ]
          },
          "metadata": {
            "tags": [],
            "needs_background": "light"
          }
        },
        {
          "output_type": "display_data",
          "data": {
            "image/png": "[encoded data removed]",
            "text/plain": [
              "<Figure size 648x432 with 1 Axes>"
            ]
          },
          "metadata": {
            "tags": [],
            "needs_background": "light"
          }
        }
      ]
    },
    {
      "cell_type": "markdown",
      "metadata": {
        "id": "XSwtU8n1-fd4"
      },
      "source": [
        "Comparando os dois"
      ]
    },
    {
      "cell_type": "code",
      "metadata": {
        "colab": {
          "base_uri": "https://localhost:8080/",
          "height": 388
        },
        "id": "ycnZ_Ya87E8t",
        "outputId": "29e55d86-dc8c-457f-b341-7f9c5dcdbcc2"
      },
      "source": [
        "fig, ax = plt.subplots(figsize=[9,6])\n",
        "for name, group in dados_df.groupby('Máquina'):\n",
        "  group.plot(x='Processos', y='Speedup', ax=ax, label=name)\n"
      ],
      "execution_count": 7,
      "outputs": [
        {
          "output_type": "display_data",
          "data": {
            "image/png": "[encoded data removed]",
            "text/plain": [
              "<Figure size 648x432 with 1 Axes>"
            ]
          },
          "metadata": {
            "tags": [],
            "needs_background": "light"
          }
        }
      ]
    }
  ]
}